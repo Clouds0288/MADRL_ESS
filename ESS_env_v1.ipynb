{
 "cells": [
  {
   "cell_type": "code",
   "execution_count": 1,
   "id": "7c09be25",
   "metadata": {},
   "outputs": [],
   "source": [
    "import torch\n",
    "import torch.nn as nn\n",
    "import torch.optim as optim\n",
    "import numpy as np\n",
    "import random\n",
    "from collections import deque"
   ]
  },
  {
   "cell_type": "code",
   "execution_count": null,
   "id": "828603ed",
   "metadata": {},
   "outputs": [],
   "source": [
    "class EnergyStorage:\n",
    "    def __init__(self, capacity=100, max_charge_rate=25, max_discharge_rate=25, efficiency=0.95):\n",
    "        self.capacity = 200         # 储能容量 (kWh)\n",
    "        self.soc = 0.5 * capacity   # 初始电量设为50%\n",
    "        self.max_charge = 100       # 最大充电功率 (kW)\n",
    "        self.max_discharge = -100   # 最大放电功率 (kW)\n",
    "        self.efficiency = 0.95      # 充放电效率\n",
    "\n",
    "    def step(self, action):\n",
    "        # action范围[-1,1]，负数放电，正数充电\n",
    "        actual_action = action * (self.max_charge if action > 0 else self.max_discharge)\n",
    "        \n",
    "        if actual_action > 0:  # 充电\n",
    "            energy = min(actual_action * self.efficiency, self.capacity - self.soc)\n",
    "            self.soc += energy\n",
    "        else:  # 放电\n",
    "            energy = max(actual_action / self.efficiency, -self.soc)\n",
    "            self.soc += energy\n",
    "        \n",
    "        return energy"
   ]
  }
 ],
 "metadata": {
  "kernelspec": {
   "display_name": "marl",
   "language": "python",
   "name": "python3"
  },
  "language_info": {
   "codemirror_mode": {
    "name": "ipython",
    "version": 3
   },
   "file_extension": ".py",
   "mimetype": "text/x-python",
   "name": "python",
   "nbconvert_exporter": "python",
   "pygments_lexer": "ipython3",
   "version": "3.7.12"
  }
 },
 "nbformat": 4,
 "nbformat_minor": 5
}
